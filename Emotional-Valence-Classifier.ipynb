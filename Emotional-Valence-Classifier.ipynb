{
 "cells": [
  {
   "cell_type": "markdown",
   "metadata": {},
   "source": [
    "<div style=\"background-color:white;color:black;padding:30px;\">\n",
    "\n",
    "<center>\n",
    "    <h1>\n",
    "    Lyrics2Chords\n",
    "    </h1>\n",
    "</center>\n",
    "\n",
    "<p>\n",
    "   This notebook contains code used to build and train the lyric emotional sentiment classifier used in the back end of the Lyrics2Chords web application. The model was trained on data containing song lyrics as the input features using the valence score attained from the Spotify API as a proxy for the emotional sentiment of the song. The valence score is then binarized into a category of low and high valence. The valence score Spotify provides is determined solely from the musical qualities of the song. Thus, one of the model assumptions relies on every song's lyrics and musical voicings are within the same valence class. Though there were a number of songs that broke from this assumption but the majority of songs appeared to obey this trend.\n",
    "</p>\n",
    "\n",
    "<p>\n",
    "This notebook is organized as follows\n",
    "</p>\n",
    "\n",
    "<ul>\n",
    "  <li>Begin by loading necessary python libraries and import data stored in csv file \n",
    "      (containing ~2k songs)  to a pandas dataframe for analysis\n",
    "  </li>\n",
    "  <li>\n",
    "      The song lyric data then goes through a round of refinement and some natural language \n",
    "      processing to clean the data and make it amenable to apply machine learning algorithms on\n",
    "  </li>\n",
    "  <li>\n",
    "      A number of machine learning models were trained on 80% of the data \n",
    "      and then combined into a stacked ensemble \n",
    "      classifier whose performance was slightly better than any sub-model contained within it\n",
    "  </li>\n",
    "</ul>\n",
    "\n",
    "<p>\n",
    "The resulting model achieved an accuracy score of 0.64 with an area under the ROC curve of 0.67 on the holdout set. Compared to results of binary sentiment classification from standard datasets like the IMDB movie reviews dataset\n",
    "this may seem underwhelming. However, song lyrics are shrouded in metaphors, simile, and other poetic devices\n",
    "that makes this classification much less straightforward for ML algorithms to accurately classify to the same degree as classifying reviews. \n",
    "</p>\n",
    "\n",
    "\n",
    "\n",
    "</div>"
   ]
  },
  {
   "cell_type": "code",
   "execution_count": 88,
   "metadata": {},
   "outputs": [],
   "source": [
    "import warnings\n",
    "warnings.filterwarnings('ignore')\n",
    "\n",
    "import pandas as pd\n",
    "import numpy as np\n",
    "import scipy\n",
    "import random\n",
    "\n",
    "import matplotlib as pl\n",
    "import matplotlib.pyplot as plt\n",
    "import seaborn as sns\n",
    "\n",
    "%matplotlib inline\n",
    "\n",
    "\n",
    "import pickle\n",
    "\n",
    "\n",
    "import sklearn as skl\n",
    "from sklearn.base import BaseEstimator, TransformerMixin, ClassifierMixin ,clone\n",
    "from sklearn.preprocessing import StandardScaler, RobustScaler \n",
    "from sklearn.feature_extraction.text import TfidfTransformer, CountVectorizer\n",
    "from sklearn.model_selection import cross_val_score, KFold, GridSearchCV, RandomizedSearchCV\n",
    "from sklearn.naive_bayes import GaussianNB, MultinomialNB\n",
    "from sklearn.linear_model import LogisticRegression, LogisticRegressionCV\n",
    "from sklearn.ensemble import RandomForestClassifier, GradientBoostingClassifier\n",
    "from sklearn.neural_network import MLPClassifier\n",
    "from sklearn.model_selection import train_test_split\n",
    "from sklearn.metrics import roc_curve, confusion_matrix , auc, accuracy_score\n",
    "\n",
    "import string\n",
    "import re\n",
    "import nltk\n",
    "from nltk import word_tokenize\n",
    "from nltk.stem.porter import PorterStemmer\n",
    "\n",
    "from langdetect import detect\n",
    "from time import sleep\n",
    "from time import time\n",
    "from scipy.stats import randint as sp_randint\n",
    "\n",
    "\n",
    "import itertools\n",
    "from itertools import islice\n",
    "import codecs\n",
    "import unicodedata\n",
    "\n",
    "\n",
    "\n"
   ]
  },
  {
   "cell_type": "code",
   "execution_count": 96,
   "metadata": {},
   "outputs": [
    {
     "data": {
      "text/html": [
       "<div>\n",
       "<style>\n",
       "    .dataframe thead tr:only-child th {\n",
       "        text-align: right;\n",
       "    }\n",
       "\n",
       "    .dataframe thead th {\n",
       "        text-align: left;\n",
       "    }\n",
       "\n",
       "    .dataframe tbody tr th {\n",
       "        vertical-align: top;\n",
       "    }\n",
       "</style>\n",
       "<table border=\"1\" class=\"dataframe\">\n",
       "  <thead>\n",
       "    <tr style=\"text-align: right;\">\n",
       "      <th></th>\n",
       "      <th>artist</th>\n",
       "      <th>song</th>\n",
       "      <th>lyrics</th>\n",
       "      <th>valence</th>\n",
       "    </tr>\n",
       "  </thead>\n",
       "  <tbody>\n",
       "    <tr>\n",
       "      <th>0</th>\n",
       "      <td>10cc</td>\n",
       "      <td>the wall street shuffle</td>\n",
       "      <td>do the wall street shuffle hear the money rust...</td>\n",
       "      <td>0.6730</td>\n",
       "    </tr>\n",
       "    <tr>\n",
       "      <th>1</th>\n",
       "      <td>3 Doors Down</td>\n",
       "      <td>kryptonite</td>\n",
       "      <td>i took a walk around the world to ease my trou...</td>\n",
       "      <td>0.5430</td>\n",
       "    </tr>\n",
       "    <tr>\n",
       "      <th>2</th>\n",
       "      <td>311</td>\n",
       "      <td>amber</td>\n",
       "      <td>brainstorm, take me away from the norm i got t...</td>\n",
       "      <td>0.7480</td>\n",
       "    </tr>\n",
       "    <tr>\n",
       "      <th>3</th>\n",
       "      <td>5 Seconds Of Summer</td>\n",
       "      <td>amnesia</td>\n",
       "      <td>i drove by all the places we used to hang out ...</td>\n",
       "      <td>0.1080</td>\n",
       "    </tr>\n",
       "    <tr>\n",
       "      <th>4</th>\n",
       "      <td>A Great Big World</td>\n",
       "      <td>say something</td>\n",
       "      <td>say something, i'm giving up on you i'll be th...</td>\n",
       "      <td>0.0765</td>\n",
       "    </tr>\n",
       "  </tbody>\n",
       "</table>\n",
       "</div>"
      ],
      "text/plain": [
       "                artist                     song  \\\n",
       "0                 10cc  the wall street shuffle   \n",
       "1         3 Doors Down               kryptonite   \n",
       "2                  311                    amber   \n",
       "3  5 Seconds Of Summer                  amnesia   \n",
       "4    A Great Big World            say something   \n",
       "\n",
       "                                              lyrics  valence  \n",
       "0  do the wall street shuffle hear the money rust...   0.6730  \n",
       "1  i took a walk around the world to ease my trou...   0.5430  \n",
       "2  brainstorm, take me away from the norm i got t...   0.7480  \n",
       "3  i drove by all the places we used to hang out ...   0.1080  \n",
       "4  say something, i'm giving up on you i'll be th...   0.0765  "
      ]
     },
     "execution_count": 96,
     "metadata": {},
     "output_type": "execute_result"
    }
   ],
   "source": [
    "dat = pd.read_csv('../THE_DF_9_27.csv')\n",
    "dat.drop(labels=['Unnamed: 0'], axis = 1, inplace=True)\n",
    "dat.drop(labels=['track_href','type','uri',], axis = 1, inplace=True)\n",
    "dat['lyrics'] = dat[['lyrics']].apply(lambda x: x.astype(str).str.lower()).lyrics.values\n",
    "dat = dat.drop_duplicates()\n",
    "\n",
    "dat[['artist','song','lyrics','valence']].head()\n",
    "\n"
   ]
  },
  {
   "cell_type": "markdown",
   "metadata": {},
   "source": [
    "<div style=\"background-color:white;color:black;padding:30px;\">\n",
    "<h2>\n",
    "Preparing the Data\n",
    "</h2>\n",
    "<p>\n",
    "In the next three cells I begin by making a  copying the data frame and then\n",
    "removing text within the lyrics in parentheses or brackets. This was useful\n",
    "in getting rid of non-lyrical text such as information on what album the song\n",
    "appeared on or which section of the song the lyrics were found in.\n",
    "</p>\n",
    "\n",
    "<p>\n",
    "I then create a new feature which counts the number of characters in each songs lyrics.\n",
    "I chose to delete any song with fewer than 60 characters. This gets rid of songs\n",
    "which are largely instrumental.\n",
    "</p>\n",
    "\n",
    "<p>\n",
    "Next, using the langdetect python package the language of each song is determined and\n",
    "I keep only the songs that are in English.\n",
    "</p>\n",
    "\n",
    "<p>\n",
    "I then define helper functions to stem and tokenize the lyrical text which I then implement\n",
    "in the following cell.\n",
    "</p>\n",
    "<div>"
   ]
  },
  {
   "cell_type": "code",
   "execution_count": 3,
   "metadata": {
    "collapsed": true
   },
   "outputs": [],
   "source": [
    "dat_cp = dat[['artist','song','lyrics','valence']].copy()\n",
    "\n",
    "\n",
    "dat_cp['lyrics'] = dat_cp['lyrics'].apply(lambda x: re.sub('\\(.*?\\)','',x))\n",
    "dat_cp['lyrics'] = dat_cp['lyrics'].apply(lambda x: re.sub('\\[.*?\\]','',x))\n",
    "dat_cp['lyrics'] = dat_cp['lyrics'].apply(lambda x: re.sub('\\{.*?\\}','',x))\n",
    "dat_cp['lyrics'] = dat_cp['lyrics'].apply(lambda x: re.sub('-',' ',x))\n",
    "\n",
    "\n",
    "#remove instrumental songs or songs  \n",
    "dat_cp['lyric_len'] = dat_cp['lyrics'].apply(lambda x: len(x))\n",
    "dat_cp = dat_cp[dat_cp['lyric_len'] > 60]\n",
    "\n",
    "#remove non-english songs\n",
    "dat_cp['lang'] = dat_cp['lyrics'].apply(lambda x: detect(x))\n",
    "dat_cp = dat_cp[dat_cp['lang'] == 'en']\n",
    "\n",
    "dat_cp = dat_cp.reset_index(drop = True)"
   ]
  },
  {
   "cell_type": "code",
   "execution_count": 4,
   "metadata": {
    "collapsed": true
   },
   "outputs": [],
   "source": [
    "stemmer = PorterStemmer()\n",
    "\n",
    "def stem_tokens(tokens, stemmer):\n",
    "    \"\"\"\n",
    "    helper fuction that takes in work tokens and stemmer\n",
    "    and returns stemmed word tokens\n",
    "    \"\"\"\n",
    "    stemmed = []\n",
    "    for item in tokens:\n",
    "        stemmed.append(stemmer.stem(item))\n",
    "    return stemmed\n",
    "\n",
    "def tokenize(text):\n",
    "    \"\"\"\n",
    "    word tokenizer that takes in raw text and returns \n",
    "    a tokenized list of words\n",
    "    \"\"\"\n",
    "    tokens = word_tokenize(text)\n",
    "    stems = stem_tokens(tokens, stemmer)\n",
    "    return stems\n",
    "\n",
    "\n"
   ]
  },
  {
   "cell_type": "code",
   "execution_count": 6,
   "metadata": {},
   "outputs": [],
   "source": [
    "stemmed_lyrics = dat_cp.lyrics.apply(lambda x: tokenize(x.replace(',',' ').replace('.',' ').replace('  ',' ')))\n",
    "stemmed_lyrics = stemmed_lyrics.apply(lambda x: ' '.join(x))"
   ]
  },
  {
   "cell_type": "code",
   "execution_count": 7,
   "metadata": {
    "collapsed": true
   },
   "outputs": [],
   "source": [
    "# The continuous valence score is binarized to 0 and 1\n",
    "#   valence = 0 corresponds to low valence   (sad, angry)\n",
    "#   valence = 1 corresponds to high valence  (happy, calm)\n",
    "def discrete_val(valence, classes):\n",
    "    if classes == 2:\n",
    "        if valence < .515:\n",
    "            return 0\n",
    "        else:\n",
    "            return 1"
   ]
  },
  {
   "cell_type": "markdown",
   "metadata": {},
   "source": [
    "<div style=\"background-color:white;color:black;padding:30px;\">\n",
    "<h2>\n",
    "Preparing the Data cont...\n",
    "</h2>\n",
    "<p>\n",
    "Below, the lyrical text is vectorized by way of a word count vectorizer that excludes common stop words \n",
    "found in the NLTK's english stopwords list and doesn't count words that have a document frequency \n",
    "greater than 95 percent or lower than 5 percent. The reason for excluding low frequency words was\n",
    "to eliminate proper nouns appearing in songs as they don't supply and information about the sentiment \n",
    "of the songs. I arrived at the five percent threshold through some experimentation and finding that the\n",
    "models accuracy on the training set was optimal for this cutoff. A TFIDF transformer is then applied. The\n",
    "thought behind this was to weight commonly occurring words in songs less than those appearing in many songs\n",
    "and words that appear often in each song should be weighed more as these are words probably occurring in the\n",
    "chorus of the song which usually contains the message of the song and may carry significant information regarding\n",
    "the songs emotional sentiment.\n",
    " </p>\n",
    "\n",
    "<p>\n",
    "The dataset if then split up into a 80-20 train-test split. The model parameters of the classifiers\n",
    "later in the notebook were optimized on the training set.\n",
    "</p>\n"
   ]
  },
  {
   "cell_type": "code",
   "execution_count": 8,
   "metadata": {
    "collapsed": true
   },
   "outputs": [],
   "source": [
    "count_vect = CountVectorizer(ngram_range=(1,3), max_df = .95, min_df = .05, stop_words=nltk.corpus.stopwords.words('English'))\n",
    "X_train_counts = count_vect.fit_transform(stemmed_lyrics.values).toarray()\n",
    "\n",
    "lyrics_tfidf = TfidfTransformer()\n",
    "X_train_tfidf = lyrics_tfidf.fit_transform(X_train_counts).toarray()\n",
    "\n",
    "N_CLASS = 2\n",
    "IN_DIM = X_train_tfidf.shape[1]\n",
    "\n",
    "dat_cp['discrete_valence'] = dat_cp.valence.apply(lambda x: discrete_val(x,N_CLASS))\n",
    "X_train, X_test, Y_train, Y_test = train_test_split(X_train_tfidf, \n",
    "                                                    dat_cp['discrete_valence'], \n",
    "                                                    test_size=0.2, \n",
    "                                                    random_state=42)\n",
    "\n",
    "y_train = dat_cp.valence"
   ]
  },
  {
   "cell_type": "markdown",
   "metadata": {
    "collapsed": true
   },
   "source": [
    "<h2>\n",
    "Defining Some Helpful Functions for Later\n",
    "</h2>"
   ]
  },
  {
   "cell_type": "code",
   "execution_count": 9,
   "metadata": {
    "collapsed": true
   },
   "outputs": [],
   "source": [
    "def plot_confusion_matrix(cm, classes,\n",
    "                          normalize=False,\n",
    "                          title='Confusion matrix',\n",
    "                          cmap=plt.cm.Blues):\n",
    "    \"\"\"\n",
    "    This function prints and plots the confusion matrix.\n",
    "    Normalization can be applied by setting `normalize=True`.\n",
    "    \"\"\"\n",
    "    if normalize:\n",
    "        cm = cm.astype('float') / cm.sum(axis=1)[:, np.newaxis]\n",
    "        print(\"Normalized confusion matrix\")\n",
    "    else:\n",
    "        print('Confusion matrix, without normalization')\n",
    "\n",
    "    #print(cm)\n",
    "\n",
    "    plt.imshow(cm, interpolation='nearest', cmap=cmap)\n",
    "    plt.title(title)\n",
    "    plt.colorbar()\n",
    "    tick_marks = np.arange(len(classes))\n",
    "    plt.xticks(tick_marks, classes, rotation=45)\n",
    "    plt.yticks(tick_marks, classes)\n",
    "\n",
    "    fmt = '.2f' if normalize else 'd'\n",
    "    thresh = cm.max() / 2.\n",
    "    for i, j in itertools.product(range(cm.shape[0]), range(cm.shape[1])):\n",
    "        plt.text(j, i, format(cm[i, j], fmt),\n",
    "                 horizontalalignment=\"center\",\n",
    "                 color=\"white\" if cm[i, j] > thresh else \"black\")\n",
    "\n",
    "    plt.ylabel('True label')\n",
    "    plt.xlabel('Predicted label')\n",
    "    plt.tight_layout()"
   ]
  },
  {
   "cell_type": "code",
   "execution_count": 10,
   "metadata": {
    "collapsed": true
   },
   "outputs": [],
   "source": [
    "def rmsle_cv(model, n_folds, x, y):\n",
    "    \"\"\"\n",
    "     This function was used in another iteration of this notebook\n",
    "     and was used to get an average accuracy score of k-fold cross-validation\n",
    "     applied to the model on the training set. This was used to help pick\n",
    "     the best hyper-paramenters for all of the models except for the\n",
    "     GradientBoostingClassifier for which scikit-learn's built in\n",
    "     RandomizedSearchCV was used to find the best model parameters\n",
    "    \"\"\"\n",
    "    kf = KFold(n_folds, shuffle=True, random_state=42).get_n_splits(x)\n",
    "    \n",
    "    accuracy_score= cross_val_score(model, \n",
    "                                   x, \n",
    "                                   y, \n",
    "                                   scoring='accuracy', \n",
    "                                   cv = kf)\n",
    "    return(accuracy_score)"
   ]
  },
  {
   "cell_type": "markdown",
   "metadata": {},
   "source": [
    "<div style=\"background-color:white;color:black;padding:30px;\">\n",
    "<h2>\n",
    "Machine Learning Model Building\n",
    "</h2>\n",
    "<p>\n",
    "Below, a number of models are trained on the training set and the accuracy scores and confusion matrices\n",
    "on the test set are then shown for the test set. This may look like I through the book of ML classifiers\n",
    "at the problem but there was a some thought and a few rounds of iterating through ideas that lead to me\n",
    "training and ensembling multiple models into a stacked classifier.\n",
    "</p>\n",
    "\n",
    "<p>\n",
    "Some of my earlier approaches began using a Naive Bayes classifier as it has historically had success of \n",
    "in text classification challenges such as spam identification. Logistic regression is also a simple\n",
    "model which has few hyper parameters and is interpretable so it too was used. I then explored the other\n",
    "models below including a gradient boosting classifier, random forest classifier, and multilayer perceptron\n",
    "neural network to test models which were able to take into account non-linear effects that logistic regression\n",
    "couldn't. \n",
    "</p>\n",
    "\n",
    "<p>\n",
    "The next idea that occurred to me was to ensemble the models. I used a stacked ensemble model which used a max\n",
    "voting rule to classify the sentiment of the song lyrics. The reason for doing this is that each machine learning\n",
    "model picks up on different facets based off of their underlying algorithm. Having each model vote on may then perform better than any underlying model. Indeed a subset of the models were chosen that give a slightly better accuracy score than the best sub-model used.\n",
    "</p>"
   ]
  },
  {
   "cell_type": "code",
   "execution_count": 23,
   "metadata": {},
   "outputs": [],
   "source": [
    "GBoost = GradientBoostingClassifier(n_estimators = 100, learning_rate = 0.025, random_state= 42)\n",
    "\n",
    "param_dist = {\"max_depth\": [2,3],\n",
    "              \"min_samples_split\": sp_randint(2, 20),\n",
    "              \"min_samples_leaf\": sp_randint(1, 20)}\n",
    "\n",
    "n_iter_search = 20\n",
    "\n",
    "random_search = RandomizedSearchCV(GBoost, \n",
    "                                   param_distributions=param_dist,\n",
    "                                   n_iter=n_iter_search, \n",
    "                                   verbose= 1,\n",
    "                                   cv = 5, \n",
    "                                   scoring=\"accuracy\",\n",
    "                                   n_jobs = -1)"
   ]
  },
  {
   "cell_type": "code",
   "execution_count": 24,
   "metadata": {},
   "outputs": [
    {
     "name": "stdout",
     "output_type": "stream",
     "text": [
      "Fitting 5 folds for each of 20 candidates, totalling 100 fits\n"
     ]
    },
    {
     "name": "stderr",
     "output_type": "stream",
     "text": [
      "[Parallel(n_jobs=-1)]: Done  42 tasks      | elapsed:   26.9s\n",
      "[Parallel(n_jobs=-1)]: Done 100 out of 100 | elapsed:  1.0min finished\n"
     ]
    }
   ],
   "source": [
    "random_search.fit(X_train, Y_train);"
   ]
  },
  {
   "cell_type": "code",
   "execution_count": 25,
   "metadata": {},
   "outputs": [
    {
     "data": {
      "text/plain": [
       "{'max_depth': 2, 'min_samples_leaf': 5, 'min_samples_split': 17}"
      ]
     },
     "execution_count": 25,
     "metadata": {},
     "output_type": "execute_result"
    }
   ],
   "source": [
    "random_search.best_params_"
   ]
  },
  {
   "cell_type": "code",
   "execution_count": 26,
   "metadata": {},
   "outputs": [
    {
     "name": "stdout",
     "output_type": "stream",
     "text": [
      "0.6157517899761337\n",
      "Normalized confusion matrix\n"
     ]
    },
    {
     "data": {
      "image/png": "[encoded data removed]",
      "text/plain": [
       "<matplotlib.figure.Figure at 0x1179072b0>"
      ]
     },
     "metadata": {
      "needs_background": "light"
     },
     "output_type": "display_data"
    }
   ],
   "source": [
    "GBoost = GradientBoostingClassifier(n_estimators = 100, random_state= 42,\n",
    "                                   learning_rate = 0.025, max_depth= 2,\n",
    "                                    min_samples_leaf = 5, min_samples_split = 17)\n",
    "\n",
    "GBoost.fit(X_train, Y_train)\n",
    "print(GBoost.score( X_test, Y_test))\n",
    "\n",
    "plot_confusion_matrix(confusion_matrix(Y_test,GBoost.predict(X_test )),normalize= True, classes=[i for i in range(N_CLASS)])\n",
    "plt.show()"
   ]
  },
  {
   "cell_type": "code",
   "execution_count": 27,
   "metadata": {},
   "outputs": [
    {
     "name": "stdout",
     "output_type": "stream",
     "text": [
      "0.5966587112171837\n",
      "Normalized confusion matrix\n"
     ]
    },
    {
     "data": {
      "image/png": "[encoded data removed]",
      "text/plain": [
       "<matplotlib.figure.Figure at 0x120a2a550>"
      ]
     },
     "metadata": {
      "needs_background": "light"
     },
     "output_type": "display_data"
    }
   ],
   "source": [
    "GNB = GaussianNB() \n",
    "\n",
    "GNB.fit(X_train,Y_train)\n",
    "print(GNB.score( X_test, Y_test))\n",
    "\n",
    "plot_confusion_matrix(confusion_matrix(Y_test,GNB.predict(X_test )),\n",
    "                      normalize= True, \n",
    "                      classes=[i for i in range(N_CLASS)])\n",
    "plt.show()"
   ]
  },
  {
   "cell_type": "code",
   "execution_count": 28,
   "metadata": {},
   "outputs": [
    {
     "name": "stdout",
     "output_type": "stream",
     "text": [
      "0.5799522673031027\n",
      "Normalized confusion matrix\n"
     ]
    },
    {
     "data": {
      "image/png": "[encoded data removed]",
      "text/plain": [
       "<matplotlib.figure.Figure at 0x1248580f0>"
      ]
     },
     "metadata": {
      "needs_background": "light"
     },
     "output_type": "display_data"
    }
   ],
   "source": [
    "LogReg_mn = LogisticRegression(penalty='l1' ,C =2, multi_class = 'multinomial', solver= 'saga', n_jobs=-1)\n",
    "\n",
    "LogReg_mn.fit(X_train,Y_train)\n",
    "print(LogReg_mn.score( X_test, Y_test))\n",
    "plot_confusion_matrix(confusion_matrix(Y_test,LogReg_mn.predict(X_test)),normalize= True, classes=[i for i in range(N_CLASS)])\n",
    "plt.show()"
   ]
  },
  {
   "cell_type": "code",
   "execution_count": 29,
   "metadata": {},
   "outputs": [
    {
     "name": "stdout",
     "output_type": "stream",
     "text": [
      "0.5847255369928401\n",
      "Normalized confusion matrix\n"
     ]
    },
    {
     "data": {
      "image/png": "[encoded data removed]",
      "text/plain": [
       "<matplotlib.figure.Figure at 0x1248cd550>"
      ]
     },
     "metadata": {
      "needs_background": "light"
     },
     "output_type": "display_data"
    }
   ],
   "source": [
    "LogReg_ovr = LogisticRegression(penalty= 'l2', C =20, multi_class = 'ovr', n_jobs=2)#, solver= 'newton-cg')\n",
    "\n",
    "LogReg_ovr.fit(X_train,Y_train)\n",
    "print(LogReg_ovr.score(X_test,Y_test))\n",
    "plot_confusion_matrix(confusion_matrix(Y_test,LogReg_ovr.predict(X_test)),normalize= True, classes=[i for i in range(N_CLASS)])\n",
    "plt.show()"
   ]
  },
  {
   "cell_type": "code",
   "execution_count": 30,
   "metadata": {},
   "outputs": [
    {
     "name": "stdout",
     "output_type": "stream",
     "text": [
      "0.6157517899761337\n",
      "Normalized confusion matrix\n"
     ]
    },
    {
     "data": {
      "image/png": "[encoded data removed]",
      "text/plain": [
       "<matplotlib.figure.Figure at 0x125ab5fd0>"
      ]
     },
     "metadata": {
      "needs_background": "light"
     },
     "output_type": "display_data"
    }
   ],
   "source": [
    "MNB = MultinomialNB(alpha =5)\n",
    "\n",
    "MNB.fit(X_train,Y_train)\n",
    "print(MNB.score(X_test,Y_test))\n",
    "plot_confusion_matrix(confusion_matrix(Y_test,MNB.predict(X_test)),normalize= True, classes=[i for i in range(N_CLASS)])\n",
    "plt.show()\n"
   ]
  },
  {
   "cell_type": "code",
   "execution_count": 31,
   "metadata": {},
   "outputs": [
    {
     "name": "stdout",
     "output_type": "stream",
     "text": [
      "0.5751789976133651\n",
      "Normalized confusion matrix\n"
     ]
    },
    {
     "data": {
      "image/png": "[encoded data removed]",
      "text/plain": [
       "<matplotlib.figure.Figure at 0x1247bd3c8>"
      ]
     },
     "metadata": {
      "needs_background": "light"
     },
     "output_type": "display_data"
    }
   ],
   "source": [
    "mlp = MLPClassifier(hidden_layer_sizes=(IN_DIM//2,IN_DIM//2,IN_DIM//2,), random_state= 42,early_stopping=True, validation_fraction=0.25)\n",
    "\n",
    "mlp.fit(X_train,Y_train)\n",
    "print(mlp.score(X_test,Y_test))\n",
    "plot_confusion_matrix(confusion_matrix(Y_test,mlp.predict(X_test)),normalize= True, classes=[i for i in range(N_CLASS)])\n",
    "plt.show()"
   ]
  },
  {
   "cell_type": "code",
   "execution_count": 98,
   "metadata": {},
   "outputs": [
    {
     "name": "stdout",
     "output_type": "stream",
     "text": [
      "0.6372315035799523\n",
      "Normalized confusion matrix\n"
     ]
    },
    {
     "data": {
      "image/png": "[encoded data removed]",
      "text/plain": [
       "<matplotlib.figure.Figure at 0x126389780>"
      ]
     },
     "metadata": {
      "needs_background": "light"
     },
     "output_type": "display_data"
    }
   ],
   "source": [
    "RFC = RandomForestClassifier(n_estimators= 40, max_depth= 5, min_samples_leaf= 10,\n",
    "                            min_samples_split = 4,criterion= 'gini',\n",
    "                            max_features = 'auto', random_state = 42)\n",
    "\n",
    "RFC.fit(X_train,Y_train)\n",
    "print(RFC.score(X_test,Y_test))\n",
    "\n",
    "plot_confusion_matrix(confusion_matrix(Y_test,RFC.predict(X_test)),normalize= True, classes=[i for i in range(N_CLASS)])\n",
    "plt.show()"
   ]
  },
  {
   "cell_type": "markdown",
   "metadata": {},
   "source": [
    "<h2>\n",
    "Stacked Classifer\n",
    "</h2>\n",
    "Below a class is built to average that will allow me to ensemble models into a stacked max-voting classifier. The models chosen from above that constitute this custom ensemble model were chosen by empirically testing out various combinations and checking to see which performed the best."
   ]
  },
  {
   "cell_type": "code",
   "execution_count": 33,
   "metadata": {
    "collapsed": true
   },
   "outputs": [],
   "source": [
    "\n",
    "\n",
    "class AveragingModels(BaseEstimator, ClassifierMixin, TransformerMixin):\n",
    "    def __init__(self, models):\n",
    "        self.models = models\n",
    "        \n",
    "    # we define clones of the original models to fit the data in\n",
    "    def fit(self, X, y):\n",
    "        self.models_ = [clone(x) for x in self.models]\n",
    "        \n",
    "        # Train cloned base models\n",
    "        for model in self.models_:\n",
    "            model.fit(X, y)\n",
    "\n",
    "        return self\n",
    "    \n",
    "    #Now we do the predictions for cloned models and average them\n",
    "    def predict(self, X):\n",
    "        predictions = np.column_stack([\n",
    "            model.predict(X) for model in self.models_\n",
    "        ])\n",
    "        return scipy.stats.mode(predictions, axis=1)[0]\n",
    "    \n",
    "    def predict_proba(self, X):\n",
    "        predictions = np.column_stack([\n",
    "            model.predict_proba(X)[:,1] for model in self.models_\n",
    "            \n",
    "        ])\n",
    "        return np.mean(predictions, axis=1)\n",
    "    "
   ]
  },
  {
   "cell_type": "code",
   "execution_count": 74,
   "metadata": {},
   "outputs": [],
   "source": [
    "voting_model = AveragingModels([LogReg_ovr, MNB,GBoost,RFC,mlp]);\n",
    "\n",
    "voting_model.fit(X_train,Y_train);"
   ]
  },
  {
   "cell_type": "code",
   "execution_count": 94,
   "metadata": {},
   "outputs": [
    {
     "name": "stdout",
     "output_type": "stream",
     "text": [
      "Modle Accuracy on Test Set: 0.6396\n",
      "Normalized confusion matrix\n"
     ]
    },
    {
     "data": {
      "image/png": "[encoded data removed]",
      "text/plain": [
       "<matplotlib.figure.Figure at 0x1262a7860>"
      ]
     },
     "metadata": {
      "needs_background": "light"
     },
     "output_type": "display_data"
    }
   ],
   "source": [
    "print('Modle Accuracy on Test Set:', round(accuracy_score(Y_test, voting_model.predict(X_test)),4))\n",
    "\n",
    "plot_confusion_matrix(confusion_matrix(Y_test,voting_model.predict(X_test)),\n",
    "                      normalize= True, classes=[i for i in range(N_CLASS)])\n",
    "plt.show()"
   ]
  },
  {
   "cell_type": "code",
   "execution_count": 83,
   "metadata": {},
   "outputs": [
    {
     "data": {
      "image/png": "[encoded data removed]",
      "text/plain": [
       "<matplotlib.figure.Figure at 0x12585ebe0>"
      ]
     },
     "metadata": {
      "needs_background": "light"
     },
     "output_type": "display_data"
    }
   ],
   "source": [
    "fpr, tpr, thresholds = roc_curve(Y_test, voting_model.predict_proba(X_test))\n",
    "plt.plot(fpr, tpr, label='RT + LR')\n",
    "plt.plot([0,1],[0,1])\n",
    "plt.title('Stacked Model ROC on Test Set')\n",
    "plt.ylabel('TPR')\n",
    "plt.xlabel('FPR')\n",
    "plt.text(.8,0,'AUC = '+ str(round(auc(fpr,tpr),2)))\n",
    "plt.show()\n",
    "#auc(fpr,tpr)"
   ]
  },
  {
   "cell_type": "markdown",
   "metadata": {},
   "source": [
    "<h2>\n",
    "An Aside\n",
    "</h2>\n",
    "\n",
    "Below I check out the words associated largest positive and negative weights of the trained logistic regression model to see what kinds of words the model associated with songs with high and and low emotional valence respectively."
   ]
  },
  {
   "cell_type": "code",
   "execution_count": 86,
   "metadata": {},
   "outputs": [
    {
     "name": "stdout",
     "output_type": "stream",
     "text": [
      "got\n",
      "better\n",
      "long\n",
      "put\n",
      "made\n",
      "touch\n",
      "pleas\n",
      "danc\n",
      "girl\n",
      "night\n",
      "line\n",
      "best\n",
      "babi\n",
      "stop\n",
      "tonight\n",
      "hit\n",
      "gon\n",
      "roll\n",
      "mine\n",
      "nobodi\n"
     ]
    }
   ],
   "source": [
    "# Top words associated with high emotional valence\n",
    "# from the logistic regression model\n",
    "for name, age in count_vect.vocabulary_.items():    \n",
    "    for i in LogReg_mn.coef_[0].argsort()[-20:][::-1]:\n",
    "        if age == i:\n",
    "            print(name)"
   ]
  },
  {
   "cell_type": "code",
   "execution_count": 87,
   "metadata": {},
   "outputs": [
    {
     "name": "stdout",
     "output_type": "stream",
     "text": [
      "walk\n",
      "bodi\n",
      "hold\n",
      "away\n",
      "thi\n",
      "fear\n",
      "far\n",
      "sometim\n",
      "start\n",
      "rememb\n",
      "fall\n",
      "alon\n",
      "close\n",
      "light\n",
      "lost\n",
      "die\n",
      "god\n",
      "cri\n",
      "black\n",
      "breath\n"
     ]
    }
   ],
   "source": [
    "# Top words associated with high emotional valence\n",
    "# from the logistic regression model\n",
    "for name, age in count_vect.vocabulary_.items():   \n",
    "    for i in LogReg_mn.coef_[0].argsort()[:20]:\n",
    "        if age == i:\n",
    "            print(name)"
   ]
  },
  {
   "cell_type": "code",
   "execution_count": null,
   "metadata": {
    "collapsed": true
   },
   "outputs": [],
   "source": [
    "#### finally we save our models, word vectorizer, and tfidf transformer\n",
    "CntVector = pickle.dump(count_vect, open('count_vect', 'wb'))\n",
    "LyricTFIDF = pickle.dump(lyrics_tfidf, open('lyrics_tfidf', 'wb'))\n",
    "\n",
    "GBoost,RFC,mlp\n",
    "LogRegModel = pickle.dump(LogReg_ovr, open('LogReg_model', 'wb'))\n",
    "NBModel = pickle.dump(MNB, open('NB_model', 'wb'))\n",
    "GBoostModel = pickle.dump(GBoost, open('GBoost_model', 'wb'))\n",
    "RFCModel = pickle.dump(MNB, open('RFC_model', 'wb'))\n",
    "MLPModel = pickle.dump(mlp, open('MLP_model', 'wb'))\n",
    "VotingModel = pickle.dump(voting_model, open('voting_model', 'wb'))"
   ]
  }
 ],
 "metadata": {
  "kernelspec": {
   "display_name": "Python 3",
   "language": "python",
   "name": "python3"
  },
  "language_info": {
   "codemirror_mode": {
    "name": "ipython",
    "version": 3
   },
   "file_extension": ".py",
   "mimetype": "text/x-python",
   "name": "python",
   "nbconvert_exporter": "python",
   "pygments_lexer": "ipython3",
   "version": "3.6.3"
  }
 },
 "nbformat": 4,
 "nbformat_minor": 2
}
